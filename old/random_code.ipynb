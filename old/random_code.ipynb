{
 "cells": [
  {
   "cell_type": "code",
   "execution_count": null,
   "metadata": {},
   "outputs": [],
   "source": [
    "# Run this when you do not have 'pmf_posterior_samples.pickle'\n",
    "\"\"\"\n",
    "with open('../data/pmf_posterior_samples.pickle', 'wb') as handle:\n",
    "    pickle.dump(posterior_samples, handle, protocol=pickle.HIGHEST_PROTOCOL)\n",
    "rounded_estimate_ratings = util_pmf.calc_average_ratings(\n",
    "                        posterior_samples['u'], posterior_samples['v'])\n",
    "with open('../data/pmf_rounded_posterior_samples.pickle', 'wb') as handle:\n",
    "    pickle.dump(rounded_estimate_ratings, handle,\n",
    "    protocol=pickle.HIGHEST_PROTOCOL)\n",
    "\"\"\""
   ]
  },
  {
   "cell_type": "code",
   "execution_count": null,
   "metadata": {},
   "outputs": [],
   "source": [
    "# Run this when you do not have 'bpmf_posterior_samples.pickle'\n",
    "\"\"\"\n",
    "with open('../data/bpmf_posterior_samples.pickle', 'wb') as handle:\n",
    "    pickle.dump(posterior_samples, handle, protocol=pickle.HIGHEST_PROTOCOL)\n",
    "rounded_estimate_ratings = util_pmf.calc_average_ratings(\n",
    "posterior_samples['theta_u_k'], posterior_samples['beta_i_k'])\n",
    "with open('../data/bpmf_rounded_posterior_samples.pickle', 'wb') as handle:\n",
    "    pickle.dump(rounded_estimate_ratings, handle,\n",
    "    protocol=pickle.HIGHEST_PROTOCOL)\n",
    "\"\"\""
   ]
  },
  {
   "cell_type": "code",
   "execution_count": null,
   "metadata": {},
   "outputs": [],
   "source": [
    "# Run this when you do not have 'poissonmf_posterior_samples.pickle'\n",
    "\"\"\"\n",
    "#with open('../data/poissonmf_posterior_samples.pickle', 'wb') as handle:\n",
    "    #pickle.dump(posterior_samples, handle, protocol=pickle.HIGHEST_PROTOCOL)\n",
    "#rounded_estimate_ratings = util_pmf.calc_average_ratings(\n",
    "posterior_samples['theta_u_k'], posterior_samples['beta_i_k'])\n",
    "#with open('../data/poissonmf_rounded_posterior_samples.pickle',\n",
    "'wb') as handle:\n",
    "    #pickle.dump(rounded_estimate_ratings, handle,\n",
    "    protocol=pickle.HIGHEST_PROTOCOL)\n",
    "\"\"\""
   ]
  }
 ],
 "metadata": {
  "kernelspec": {
   "display_name": "Python 3",
   "language": "python",
   "name": "python3"
  },
  "language_info": {
   "codemirror_mode": {
    "name": "ipython",
    "version": 3
   },
   "file_extension": ".py",
   "mimetype": "text/x-python",
   "name": "python",
   "nbconvert_exporter": "python",
   "pygments_lexer": "ipython3",
   "version": "3.7.3"
  }
 },
 "nbformat": 4,
 "nbformat_minor": 2
}
