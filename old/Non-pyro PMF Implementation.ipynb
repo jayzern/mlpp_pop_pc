{
 "cells": [
  {
   "cell_type": "code",
   "execution_count": null,
   "metadata": {},
   "outputs": [],
   "source": [
    "# Reference: https://sandipanweb.wordpress.com/2017/04/04/probabilistic-matrix-factorization-with-a-generative-model-in-python/\n",
    "# Implementation of Probabilistic Matrix Factorization from the above reference\n",
    "class PMF:\n",
    "    def __init__(self, k, prior_mean=0, prior_std=1, epochs=20):\n",
    "        self.k = k\n",
    "        self.prior_mean = prior_mean\n",
    "        self.prior_std = prior_std\n",
    "        self.epochs = epochs\n",
    "        self.u = None\n",
    "        self.v = None\n",
    "        self.M_prime = None\n",
    "\n",
    "    def fit(self, data):\n",
    "        ratings = data\n",
    "        self.I = ratings.userId.nunique()\n",
    "        self.J = ratings.movieId.nunique()\n",
    "        self.u = pyro.sample(\"user_factor\", dist.Normal(self.prior_mean, self.prior_std), sample_shape=torch.Size([self.I,self.k]))\n",
    "        self.v = pyro.sample(\"movie_factor\", dist.Normal(self.prior_mean, self.prior_std), sample_shape=torch.Size([self.J,self.k]))\n",
    "        self.data_var = ratings['rating'].var(axis=0)\n",
    "        \n",
    "        user_to_movie_dict = {}\n",
    "        movie_to_user_dict = {}\n",
    "\n",
    "        for i in range(self.I):\n",
    "            user_to_movie_dict[i] = ratings[ratings['new_user_index']==i]['new_movie_index'].tolist()\n",
    "        for j in range(self.J):\n",
    "            movie_to_user_dict[j] = ratings[ratings['new_movie_index']==j]['new_user_index'].tolist()\n",
    "            \n",
    "        for epoch_num in range(self.epochs):\n",
    "            # Update of all u_i: Took 110.703 seconds on Yuki's cp\n",
    "            for i in range(len(self.u)):\n",
    "                v_sum = 0\n",
    "                mv_sum = 0\n",
    "                for j in user_to_movie_dict[i]:\n",
    "                    v_sum += np.outer(self.v[j],self.v[j])\n",
    "                    mv_sum += float(ratings[(ratings['new_user_index']==i) & (ratings['new_movie_index']==j)].rating) * self.v[j]\n",
    "                self.u[i] = torch.from_numpy(np.dot(inv(self.prior_std * self.data_var * np.identity(self.k) + v_sum), mv_sum))\n",
    "\n",
    "            # Update of all v_j: Took 106.218 seconds on Yuki's cp\n",
    "            for j in range(len(self.v)):\n",
    "                u_sum = 0\n",
    "                mu_sum = 0\n",
    "                for i in movie_to_user_dict[j]:\n",
    "                    u_sum += np.outer(self.u[i],self.u[i])\n",
    "                    mu_sum += float(ratings[(ratings['new_user_index']==i) & (ratings['new_movie_index']==j)].rating) * self.u[i]\n",
    "                self.v[j] = torch.from_numpy(np.dot(inv(self.prior_std * self.data_var * np.identity(self.k) + u_sum), mu_sum))\n",
    "\n",
    "            self.M_prime = torch.mm(self.u,self.v.T)\n",
    "            error = 0\n",
    "            for i in range(len(self.u)):\n",
    "                for j in user_to_movie_dict[i]:\n",
    "                    error += (float(ratings[(ratings['new_user_index']==i) & (ratings['new_movie_index']==j)].rating) - self.M_prime[i][j])**2\n",
    "            print('MSE of Epoch ' + str(epoch_num) + ': ' + str(float(error/len(ratings))))"
   ]
  },
  {
   "cell_type": "code",
   "execution_count": null,
   "metadata": {},
   "outputs": [],
   "source": [
    "# Set k\n",
    "k = 10\n",
    "PMF_self = PMF(k)\n",
    "PMF_self.fit(train_ratings)"
   ]
  },
  {
   "cell_type": "code",
   "execution_count": null,
   "metadata": {},
   "outputs": [],
   "source": [
    "# Retrieve Estimated Ratings\n",
    "estimate_ratings = PMF_self.M_prime\n",
    "\n",
    "# Round the estimated ratings to the closest .5 rating between 0.5 and 5\n",
    "rounded_estimate_ratings = (estimate_ratings * 2).round()/ 2\n",
    "rounded_estimate_ratings[rounded_estimate_ratings>5.0] = 5.0\n",
    "rounded_estimate_ratings[rounded_estimate_ratings<0.5] = 0.5\n",
    "print(rounded_estimate_ratings)"
   ]
  }
 ],
 "metadata": {
  "kernelspec": {
   "display_name": "Python 3",
   "language": "python",
   "name": "python3"
  },
  "language_info": {
   "codemirror_mode": {
    "name": "ipython",
    "version": 3
   },
   "file_extension": ".py",
   "mimetype": "text/x-python",
   "name": "python",
   "nbconvert_exporter": "python",
   "pygments_lexer": "ipython3",
   "version": "3.7.3"
  }
 },
 "nbformat": 4,
 "nbformat_minor": 2
}
