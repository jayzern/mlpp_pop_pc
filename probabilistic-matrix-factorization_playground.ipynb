{
 "cells": [
  {
   "cell_type": "markdown",
   "metadata": {},
   "source": [
    "## Probabilistic Matrix Factorization using the MovieLens Dataset"
   ]
  },
  {
   "cell_type": "code",
   "execution_count": 129,
   "metadata": {},
   "outputs": [],
   "source": [
    "%matplotlib inline\n",
    "import time\n",
    "\n",
    "import pandas as pd\n",
    "import numpy as np\n",
    "import torch\n",
    "import pyro\n",
    "import matplotlib.pyplot as plt\n",
    "\n",
    "from numpy.linalg import inv"
   ]
  },
  {
   "cell_type": "code",
   "execution_count": 130,
   "metadata": {},
   "outputs": [
    {
     "name": "stdout",
     "output_type": "stream",
     "text": [
      "Minimum number of ratings for each user is 20\n",
      "Minimum number of ratings for each movie is 1\n"
     ]
    }
   ],
   "source": [
    "# Run this when you haven't created a indexed_ratings.csv yet\n",
    "# Data: https://www.kaggle.com/rounakbanik/the-movies-dataset/download\n",
    "ratings = pd.read_csv('../data/the-movies-dataset/ratings_small.csv')\n",
    "\n",
    "# Check the minimum number of ratings a user has posted\n",
    "print('Minimum number of ratings for each user is ' + str(ratings.groupby('userId').size().min()))\n",
    "print('Minimum number of ratings for each movie is ' + str(ratings.groupby('movieId').size().min()))"
   ]
  },
  {
   "cell_type": "code",
   "execution_count": 131,
   "metadata": {},
   "outputs": [
    {
     "name": "stdout",
     "output_type": "stream",
     "text": [
      "Minimum number of ratings for each movie is 5\n"
     ]
    }
   ],
   "source": [
    "# We will only use part of the data that has more than 4 reviews per movie\n",
    "moviecounts = ratings.movieId.value_counts()\n",
    "ratings = ratings[ratings.movieId.isin(moviecounts.index[moviecounts.gt(4)])].reset_index(drop=True)\n",
    "print('Minimum number of ratings for each movie is ' + str(ratings.groupby('movieId').size().min()))"
   ]
  },
  {
   "cell_type": "code",
   "execution_count": 132,
   "metadata": {},
   "outputs": [],
   "source": [
    "unique_userId = ratings.userId.unique()\n",
    "unique_movieId = ratings.movieId.unique()\n",
    "\n",
    "ratings['new_user_index'], ratings['new_movie_index'] = 0, 0\n",
    "\n",
    "for old_id, new_id in zip(unique_userId, range(len(unique_userId))):\n",
    "    ratings['new_user_index'].iloc[ratings[ratings['userId']==old_id].index.tolist()] = new_id\n",
    "\n",
    "for old_id, new_id in zip(unique_movieId, range(len(unique_movieId))):\n",
    "    ratings['new_movie_index'].iloc[ratings[ratings['movieId']==old_id].index.tolist()] = new_id\n",
    "\n",
    "ratings.to_csv('../data/indexed_ratings.csv')"
   ]
  },
  {
   "cell_type": "code",
   "execution_count": 142,
   "metadata": {},
   "outputs": [],
   "source": [
    "# Run this when you have a indexed_ratings.csv \n",
    "ratings = pd.read_csv('../data/indexed_ratings.csv', index_col=0)"
   ]
  },
  {
   "cell_type": "code",
   "execution_count": 144,
   "metadata": {},
   "outputs": [
    {
     "name": "stdout",
     "output_type": "stream",
     "text": [
      "Number of ratings in entire dataset is 90072\n",
      "Number of ratings in entire dataset is 86717\n",
      "Number of ratings in entire dataset is 3355\n"
     ]
    }
   ],
   "source": [
    "# Randomly split the data into train and test\n",
    "# Specifically, take 5 random ratings out from each user's rating list (therefore, there will be 5 times # of user ratings in the test set)\n",
    "\n",
    "# For each user id, take out 5 ratings out of the dataframe then append them into a new dataframe.\n",
    "# Then take the difference of the two data frames and the difference will be the train data\n",
    "for userid in ratings.userId.unique() :\n",
    "    if userid == 1:\n",
    "        test_ratings = ratings[ratings['userId']==userid].sample(5, random_state=0)\n",
    "    else:\n",
    "        test_ratings = test_ratings.append(ratings[ratings['userId']==userid].sample(5, random_state=0))\n",
    "train_ratings = pd.concat([ratings, test_ratings]).drop_duplicates(keep=False).reset_index(drop=True)\n",
    "test_ratings = test_ratings.reset_index(drop=True)\n",
    "print(\"Number of ratings in entire dataset is \"+ str(len(ratings)))\n",
    "print(\"Number of ratings in entire dataset is \"+  str(len(train_ratings)))\n",
    "print(\"Number of ratings in entire dataset is \"+ str(len(test_ratings)))"
   ]
  },
  {
   "cell_type": "code",
   "execution_count": 151,
   "metadata": {
    "scrolled": true
   },
   "outputs": [
    {
     "data": {
      "text/plain": [
       "<matplotlib.axes._subplots.AxesSubplot at 0x11a8de390>"
      ]
     },
     "execution_count": 151,
     "metadata": {},
     "output_type": "execute_result"
    },
    {
     "data": {
      "image/png": "[encoded data removed]",
      "text/plain": [
       "<Figure size 432x288 with 1 Axes>"
      ]
     },
     "metadata": {
      "needs_background": "light"
     },
     "output_type": "display_data"
    }
   ],
   "source": [
    "# Distribution of All Ratings (with more than 4 reviews)\n",
    "ratings['rating'].value_counts().reindex([0.5,1.0,1.5,2.0,2.5,3.0,3.5,4.0,4.5,5.0]).plot(kind='bar')"
   ]
  },
  {
   "cell_type": "code",
   "execution_count": 152,
   "metadata": {},
   "outputs": [
    {
     "data": {
      "text/plain": [
       "<matplotlib.axes._subplots.AxesSubplot at 0x11a759d30>"
      ]
     },
     "execution_count": 152,
     "metadata": {},
     "output_type": "execute_result"
    },
    {
     "data": {
      "image/png": "[encoded data removed]",
      "text/plain": [
       "<Figure size 432x288 with 1 Axes>"
      ]
     },
     "metadata": {
      "needs_background": "light"
     },
     "output_type": "display_data"
    }
   ],
   "source": [
    "# Distribution of Train Data Ratings\n",
    "train_ratings['rating'].value_counts().reindex([0.5,1.0,1.5,2.0,2.5,3.0,3.5,4.0,4.5,5.0]).plot(kind='bar')"
   ]
  },
  {
   "cell_type": "code",
   "execution_count": 153,
   "metadata": {},
   "outputs": [
    {
     "data": {
      "text/plain": [
       "<matplotlib.axes._subplots.AxesSubplot at 0x11a8b3b00>"
      ]
     },
     "execution_count": 153,
     "metadata": {},
     "output_type": "execute_result"
    },
    {
     "data": {
      "image/png": "[encoded data removed]",
      "text/plain": [
       "<Figure size 432x288 with 1 Axes>"
      ]
     },
     "metadata": {
      "needs_background": "light"
     },
     "output_type": "display_data"
    }
   ],
   "source": [
    "# Distribution of Test Data Ratings\n",
    "test_ratings['rating'].value_counts().reindex([0.5,1.0,1.5,2.0,2.5,3.0,3.5,4.0,4.5,5.0]).plot(kind='bar')"
   ]
  },
  {
   "cell_type": "code",
   "execution_count": 197,
   "metadata": {},
   "outputs": [],
   "source": [
    "# Reference: https://sandipanweb.wordpress.com/2017/04/04/probabilistic-matrix-factorization-with-a-generative-model-in-python/\n",
    "# Implementation of Probabilistic Matrix Factorization\n",
    "class PMF:\n",
    "    def __init__(self, k, prior_mean=0, prior_std=1, epochs=20):\n",
    "        self.k = k\n",
    "        self.prior_mean = prior_mean\n",
    "        self.prior_std = prior_std\n",
    "        self.epochs = epochs\n",
    "        self.u = None\n",
    "        self.v = None\n",
    "        self.M_prime = None\n",
    "        \n",
    "    def fit(self, data):\n",
    "        ratings = data\n",
    "        self.I = ratings.userId.nunique()\n",
    "        self.J = ratings.movieId.nunique()\n",
    "        self.u = pyro.sample(\"user_factor\", pyro.distributions.Normal(self.prior_mean, self.prior_std), sample_shape=torch.Size([self.I,self.k]))\n",
    "        self.v = pyro.sample(\"movie_factor\", pyro.distributions.Normal(self.prior_mean, self.prior_std), sample_shape=torch.Size([self.J,self.k]))\n",
    "        self.data_var = ratings['rating'].var(axis=0)\n",
    "        \n",
    "        user_to_movie_dict = {}\n",
    "        movie_to_user_dict = {}\n",
    "\n",
    "        for i in range(self.I):\n",
    "            user_to_movie_dict[i] = ratings[ratings['new_user_index']==i]['new_movie_index'].tolist()\n",
    "        for j in range(self.J):\n",
    "            movie_to_user_dict[j] = ratings[ratings['new_movie_index']==j]['new_user_index'].tolist()\n",
    "            \n",
    "        for epoch_num in range(self.epochs):\n",
    "            # Update of all u_i: Took 110.703 seconds on Yuki's cp\n",
    "            for i in range(len(self.u)):\n",
    "                v_sum = 0\n",
    "                mv_sum = 0\n",
    "                for j in user_to_movie_dict[i]:\n",
    "                    v_sum += np.outer(self.v[j],self.v[j])\n",
    "                    mv_sum += float(ratings[(ratings['new_user_index']==i) & (ratings['new_movie_index']==j)].rating) * self.v[j]\n",
    "                self.u[i] = torch.from_numpy(np.dot(inv(self.prior_std * self.data_var * np.identity(self.k) + v_sum), mv_sum))\n",
    "\n",
    "            # Update of all v_j: Took 106.218 seconds on Yuki's cp\n",
    "            for j in range(len(self.v)):\n",
    "                u_sum = 0\n",
    "                mu_sum = 0\n",
    "                for i in movie_to_user_dict[j]:\n",
    "                    u_sum += np.outer(self.u[i],self.u[i])\n",
    "                    mu_sum += float(ratings[(ratings['new_user_index']==i) & (ratings['new_movie_index']==j)].rating) * self.u[i]\n",
    "                self.v[j] = torch.from_numpy(np.dot(inv(self.prior_std * self.data_var * np.identity(self.k) + u_sum), mu_sum))\n",
    "\n",
    "            self.M_prime = torch.mm(self.u,self.v.T)\n",
    "            error = 0\n",
    "            for i in range(len(self.u)):\n",
    "                for j in user_to_movie_dict[i]:\n",
    "                    error += (float(ratings[(ratings['new_user_index']==i) & (ratings['new_movie_index']==j)].rating) - self.M_prime[i][j])**2\n",
    "            print('MSE of Epoch ' + str(epoch_num) + ': ' + str(float(error/len(ratings))))"
   ]
  },
  {
   "cell_type": "code",
   "execution_count": null,
   "metadata": {},
   "outputs": [
    {
     "name": "stdout",
     "output_type": "stream",
     "text": [
      "MSE of Epoch 0: 5.537270545959473\n",
      "MSE of Epoch 1: 0.6590448021888733\n",
      "MSE of Epoch 2: 0.49050578474998474\n",
      "MSE of Epoch 3: 0.43283361196517944\n",
      "MSE of Epoch 4: 0.4021185636520386\n",
      "MSE of Epoch 5: 0.3824620842933655\n",
      "MSE of Epoch 6: 0.36833488941192627\n",
      "MSE of Epoch 7: 0.3574390113353729\n",
      "MSE of Epoch 8: 0.34870439767837524\n",
      "MSE of Epoch 9: 0.341552197933197\n"
     ]
    }
   ],
   "source": [
    "# Fit the PMF model with \n",
    "model_3 = PMF(10)\n",
    "model_3.fit(train_ratings)"
   ]
  },
  {
   "cell_type": "code",
   "execution_count": 161,
   "metadata": {},
   "outputs": [],
   "source": [
    "# After the training, retrive the estimated user-movie rating matrix\n",
    "estimate_ratings = model_3.M_prime"
   ]
  },
  {
   "cell_type": "code",
   "execution_count": 192,
   "metadata": {},
   "outputs": [
    {
     "name": "stdout",
     "output_type": "stream",
     "text": [
      "tensor([[2.0000, 3.0000, 2.5000,  ..., 2.0000, 1.5000, 2.5000],\n",
      "        [3.5000, 4.5000, 4.0000,  ..., 3.5000, 2.0000, 4.0000],\n",
      "        [3.5000, 4.0000, 4.0000,  ..., 2.5000, 1.5000, 3.0000],\n",
      "        ...,\n",
      "        [4.5000, 5.0000, 5.0000,  ..., 4.5000, 2.5000, 4.5000],\n",
      "        [4.0000, 5.0000, 4.5000,  ..., 3.5000, 2.0000, 4.5000],\n",
      "        [2.5000, 3.0000, 3.5000,  ..., 2.0000, 1.0000, 2.0000]])\n"
     ]
    }
   ],
   "source": [
    "rounded_estimate_ratings = (estimate_ratings * 2) .round()/ 2\n",
    "rounded_estimate_ratings[rounded_estimate_ratings>5.0] = 5.0\n",
    "rounded_estimate_ratings[rounded_estimate_ratings<0.5] = 0.5\n",
    "print(rounded_estimate_ratings)"
   ]
  },
  {
   "cell_type": "code",
   "execution_count": 191,
   "metadata": {},
   "outputs": [
    {
     "data": {
      "text/plain": [
       "tensor([173950, 122304, 194090, 289186, 375038, 408041, 349349, 226876, 117321,\n",
       "         89661])"
      ]
     },
     "execution_count": 191,
     "metadata": {},
     "output_type": "execute_result"
    }
   ],
   "source": [
    "rounded_estimate_ratings_unique = rounded_estimate_ratings.unique(sorted=True)\n",
    "rounded_estimate_ratings_counts = torch.stack([(rounded_estimate_ratings==rounded_estimate).sum() for  rounded_estimate in rounded_estimate_ratings_unique])\n",
    "rounded_estimate_ratings_counts"
   ]
  },
  {
   "cell_type": "code",
   "execution_count": 196,
   "metadata": {},
   "outputs": [
    {
     "data": {
      "text/plain": [
       "<BarContainer object of 10 artists>"
      ]
     },
     "execution_count": 196,
     "metadata": {},
     "output_type": "execute_result"
    },
    {
     "data": {
      "image/png": "[encoded data removed]",
      "text/plain": [
       "<Figure size 432x288 with 1 Axes>"
      ]
     },
     "metadata": {
      "needs_background": "light"
     },
     "output_type": "display_data"
    }
   ],
   "source": [
    "plt.bar(rounded_estimate_ratings_unique, rounded_estimate_ratings_counts, width=0.2)"
   ]
  },
  {
   "cell_type": "code",
   "execution_count": null,
   "metadata": {},
   "outputs": [],
   "source": [
    "model_4 = PMF(4)\n",
    "model_4.fit(train_ratings)"
   ]
  },
  {
   "cell_type": "code",
   "execution_count": 11,
   "metadata": {},
   "outputs": [],
   "source": [
    "# PPC \n",
    "# get distribution of ratings from the entire data, and for each user\n",
    "# get distribution of ratings from the predicted entire data, and predictions for each user\n",
    "# check if the discrepancies are close to each other\n",
    "\n",
    "# Discrepancies of original data\n",
    "max_rating = max(ratings['rating'])\n",
    "min_rating = min(ratings['rating'])\n",
    "mean_rating = ratings['rating'].mean()\n",
    "median_rating = ratings['rating'].median()\n",
    "first_q_rating = np.quantile(ratings['rating'],0.25)\n",
    "third_q_rating = np.quantile(ratings['rating'],0.75)"
   ]
  },
  {
   "cell_type": "code",
   "execution_count": 6,
   "metadata": {},
   "outputs": [],
   "source": [
    "# POP-PC\n",
    "# Cross validation POP-PC\n",
    "# Splitting of train and test data\n",
    "# Randomly remove ratings from train data, and keep possession of them to check later on \n",
    "# Train the model, then compare the entire data distribution and the ratings distributions of each user."
   ]
  },
  {
   "cell_type": "code",
   "execution_count": null,
   "metadata": {},
   "outputs": [],
   "source": []
  }
 ],
 "metadata": {
  "kernelspec": {
   "display_name": "Python 3",
   "language": "python",
   "name": "python3"
  },
  "language_info": {
   "codemirror_mode": {
    "name": "ipython",
    "version": 3
   },
   "file_extension": ".py",
   "mimetype": "text/x-python",
   "name": "python",
   "nbconvert_exporter": "python",
   "pygments_lexer": "ipython3",
   "version": "3.7.3"
  }
 },
 "nbformat": 4,
 "nbformat_minor": 2
}
