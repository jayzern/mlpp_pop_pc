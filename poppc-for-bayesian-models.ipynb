{
 "cells": [
  {
   "cell_type": "markdown",
   "metadata": {},
   "source": [
    "# Application of Population Predictive Checks (POP-PC) to Bayesian Models "
   ]
  },
  {
   "cell_type": "markdown",
   "metadata": {},
   "source": [
    "Due to recent developments in approximate posterior inference, Bayesian models have become much more easier to build. Therefore the assessment of the models are becoming a bigger concern. The paper Population Predictive Checks [Ranganath, Blei 2019] introduces an assessment framework called the POP-PC for Bayesian models, and show examples of applying it to the Dirichlet Process, Bayesian Linear Regression, and Latent Dirichlet Allocation. Since they have not proven the strength of POP-PCs for other Bayesian models such as Matrix Factorization (MF) and Gaussian Mixture Models (GMM), we have decided to test the POP-PC model assessment framework on these two models."
   ]
  },
  {
   "cell_type": "markdown",
   "metadata": {},
   "source": [
    "## Discrepancies"
   ]
  },
  {
   "cell_type": "markdown",
   "metadata": {},
   "source": [
    "In PPCs (Posterior Predictive Checks, another model assessment framework) and POP-PCs, the predicted probability distribution is compared with a target distribution. Specifically, the target distribution for PPCs is the observed data (train data) and for POP-PCs it is the nonobserved data (test data). The comparison is conducted with the help of discrepancies, which are functions of the data that measures something that you want to see in the distributions (ex. mean, median, range, log-likelihood, etc.)."
   ]
  },
  {
   "cell_type": "markdown",
   "metadata": {},
   "source": [
    "## Data"
   ]
  },
  {
   "cell_type": "markdown",
   "metadata": {},
   "source": [
    "In our project, we use the MovieLens Dataset, which consists of ratings and metadata of movies. Specifically, we use the ratings_small.csv, which is a subset of the entire dataset. (subset consists of 100,000 ratings from 700 users on 9,000 movies)"
   ]
  },
  {
   "cell_type": "markdown",
   "metadata": {},
   "source": [
    "### Import Relevant Packages"
   ]
  },
  {
   "cell_type": "code",
   "execution_count": 2,
   "metadata": {},
   "outputs": [],
   "source": [
    "%matplotlib inline\n",
    "\n",
    "import time\n",
    "import pandas as pd\n",
    "import numpy as np\n",
    "import torch\n",
    "import pyro\n",
    "import pyro.distributions as dist\n",
    "import matplotlib.pyplot as plt\n",
    "import pickle \n",
    "\n",
    "import util_pmf as util_pmf\n",
    "\n",
    "from numpy.linalg import inv\n",
    "from pyro import poutine\n",
    "from pyro.infer.mcmc.api import MCMC\n",
    "from pyro.infer.mcmc import NUTS"
   ]
  },
  {
   "cell_type": "markdown",
   "metadata": {},
   "source": [
    "First, we are going to start with PMF, then GMM. (Note that we will use POP-PC and PPC at the very end of each model/section)"
   ]
  },
  {
   "cell_type": "markdown",
   "metadata": {},
   "source": [
    "## Matrix Factorization (MF) using the MovieLens Dataset"
   ]
  },
  {
   "cell_type": "markdown",
   "metadata": {},
   "source": [
    "In this section, we will use 3 different types of MF to predict the ratings of each users. MF is a technique to represent a given matrix with the product of two matrices. In our setting, one of matrices will represent users$\\times$latent factors (matrix $u$), the other matrix will represent movies$\\times$latent factors (matrix  $v$), and the product of those two matrices will represent the ratings of each movie given by the users. \n",
    "\n",
    "Note that we will only use movies that have more than 4 ratings."
   ]
  },
  {
   "cell_type": "markdown",
   "metadata": {},
   "source": [
    "### Data Preprocessing and Preparation"
   ]
  },
  {
   "cell_type": "code",
   "execution_count": 3,
   "metadata": {},
   "outputs": [],
   "source": [
    "# For the following functions, set checker=0 when it is your\n",
    "# first time running this preprocessing (creates files)\n",
    "# Otherwise, set checker to any number when you\n",
    "# already have those files\n",
    "ratings_df = util_pmf.data_prepare_load(checker=1)\n",
    "train_ratings, test_ratings = util_pmf.train_test_split(ratings_df, checker=1)\n",
    "train_ratings = util_pmf.reindex_train(train_ratings, checker=1)\n",
    "zero_imputated_ratings = util_pmf.zero_imputation(\n",
    "    ratings_df, train_ratings, checker=1)\n",
    "is_observed = (zero_imputated_ratings != 0)"
   ]
  },
  {
   "cell_type": "markdown",
   "metadata": {},
   "source": [
    "### Distribution of Ratings (with more than 4 reviews)"
   ]
  },
  {
   "cell_type": "markdown",
   "metadata": {},
   "source": [
    "#### Distribution of All Ratings"
   ]
  },
  {
   "cell_type": "code",
   "execution_count": 4,
   "metadata": {
    "scrolled": false
   },
   "outputs": [
    {
     "data": {
      "text/plain": [
       "<matplotlib.axes._subplots.AxesSubplot at 0x110ad63c8>"
      ]
     },
     "execution_count": 4,
     "metadata": {},
     "output_type": "execute_result"
    },
    {
     "data": {
      "image/png": "[encoded data removed]",
      "text/plain": [
       "<Figure size 432x288 with 1 Axes>"
      ]
     },
     "metadata": {
      "needs_background": "light"
     },
     "output_type": "display_data"
    }
   ],
   "source": [
    "ratings_df['rating'].value_counts().reindex(\n",
    "    [0.5, 1.0, 1.5, 2.0, 2.5, 3.0, 3.5, 4.0, 4.5, 5.0]\n",
    ").plot(kind='bar')"
   ]
  },
  {
   "cell_type": "markdown",
   "metadata": {},
   "source": [
    "#### Distribution of Train Data Ratings"
   ]
  },
  {
   "cell_type": "code",
   "execution_count": 5,
   "metadata": {},
   "outputs": [
    {
     "data": {
      "text/plain": [
       "<matplotlib.axes._subplots.AxesSubplot at 0x10ee2e128>"
      ]
     },
     "execution_count": 5,
     "metadata": {},
     "output_type": "execute_result"
    },
    {
     "data": {
      "image/png": "[encoded data removed]",
      "text/plain": [
       "<Figure size 432x288 with 1 Axes>"
      ]
     },
     "metadata": {
      "needs_background": "light"
     },
     "output_type": "display_data"
    }
   ],
   "source": [
    "train_ratings['rating'].value_counts().reindex(\n",
    "    [0.5, 1.0, 1.5, 2.0, 2.5, 3.0, 3.5, 4.0, 4.5, 5.0]\n",
    ").plot(kind='bar')"
   ]
  },
  {
   "cell_type": "markdown",
   "metadata": {},
   "source": [
    "#### Distribution of Test Data Ratings"
   ]
  },
  {
   "cell_type": "code",
   "execution_count": 6,
   "metadata": {},
   "outputs": [
    {
     "data": {
      "text/plain": [
       "<matplotlib.axes._subplots.AxesSubplot at 0x1277a2390>"
      ]
     },
     "execution_count": 6,
     "metadata": {},
     "output_type": "execute_result"
    },
    {
     "data": {
      "image/png": "[encoded data removed]",
      "text/plain": [
       "<Figure size 432x288 with 1 Axes>"
      ]
     },
     "metadata": {
      "needs_background": "light"
     },
     "output_type": "display_data"
    }
   ],
   "source": [
    "test_ratings['rating'].value_counts().reindex(\n",
    "    [0.5, 1.0, 1.5, 2.0, 2.5, 3.0, 3.5, 4.0, 4.5, 5.0]\n",
    ").plot(kind='bar')"
   ]
  },
  {
   "cell_type": "markdown",
   "metadata": {},
   "source": [
    "### Model: Probabilistic Matrix Factorization (PMF)"
   ]
  },
  {
   "cell_type": "markdown",
   "metadata": {},
   "source": [
    "Now we implement the Probabilistic Matrix Factorization (PMF) model, which is the simplest \"probabilistic\" MF model. \n",
    "\n",
    "Given a rating matrix $R$,  user matrix $U$, movie matrix $V$, and variance $\\sigma$, the likelihood of PMF is:\n",
    "\n",
    "\\begin{equation}\n",
    "    p(R_{ij} | U_i, V_j, \\mu, \\sigma^2) = N(R_{ij}| U_i, V_j, \\mu, \\sigma^2)\n",
    "\\end{equation}\n",
    "\n",
    "where the user and feature vectors are given Gaussian priors:\n",
    "\\begin{equation}\n",
    "    p(U|\\mu_U, \\sigma_U^2) = \\prod_{i=1}^{N_U}N(U_i|\\mu_U,\\sigma_U^2I) \\\\\n",
    "    p(V|\\mu_V, \\sigma_V^2) = \\prod_{i=1}^{N_V}N(V_i|\\mu_V,\\sigma_V^2I)\n",
    "\\end{equation}\n",
    "\n",
    "We set $\\mu_U=\\mu_V=0$ and $\\sigma_U=\\sigma_V=1$ here for simplicity.\n",
    "\n",
    "For $k$ (represents latent factors of user and feature vectors), we chose $k=10$ for all MF models in this section."
   ]
  },
  {
   "cell_type": "code",
   "execution_count": 7,
   "metadata": {},
   "outputs": [],
   "source": [
    "def model(data, k=10):\n",
    "    with pyro.plate('users', ratings_df.userId.nunique()):\n",
    "        u = pyro.sample('u', dist.MultivariateNormal(\n",
    "            torch.zeros(k), 1*torch.eye(k)))\n",
    "    with pyro.plate('movies', ratings_df.movieId.nunique()):\n",
    "        v = pyro.sample('v', dist.MultivariateNormal(\n",
    "            torch.zeros(k), 1*torch.eye(k)))\n",
    "    with poutine.mask(mask=torch.tensor(is_observed)):\n",
    "        pyro.sample(\"obs\", dist.Normal(torch.mm(u, v.T), 1), obs=data)"
   ]
  },
  {
   "cell_type": "markdown",
   "metadata": {},
   "source": [
    "### Inference"
   ]
  },
  {
   "cell_type": "markdown",
   "metadata": {},
   "source": [
    "We use NUTS MCMC to approximate the posterior distribution of $p(u,v|R,\\lambda, \\mu, \\sigma)$. Then we take the average of the sampled 100 $u^Tv$s as the predicted ratings of the movies given by users. Note that this is how inference is done for the rest of the MF section."
   ]
  },
  {
   "cell_type": "code",
   "execution_count": null,
   "metadata": {},
   "outputs": [],
   "source": [
    "pyro.set_rng_seed(2)\n",
    "kernel = NUTS(model, step_size=1e-4)\n",
    "mcmc = MCMC(kernel, num_samples=100, warmup_steps=100)\n",
    "mcmc.run(torch.tensor(zero_imputated_ratings))\n",
    "posterior_samples = mcmc.get_samples()"
   ]
  },
  {
   "cell_type": "code",
   "execution_count": null,
   "metadata": {},
   "outputs": [],
   "source": [
    "# Run this when you do not have 'pmf_posterior_samples.pickle'\n",
    "\"\"\"\n",
    "with open('../data/pmf_posterior_samples.pickle', 'wb') as handle:\n",
    "    pickle.dump(posterior_samples, handle, protocol=pickle.HIGHEST_PROTOCOL)\n",
    "rounded_estimate_ratings = util_pmf.calc_average_ratings(\n",
    "                        posterior_samples['u'], posterior_samples['v'])\n",
    "with open('../data/pmf_rounded_posterior_samples.pickle', 'wb') as handle:\n",
    "    pickle.dump(rounded_estimate_ratings, handle,\n",
    "    protocol=pickle.HIGHEST_PROTOCOL)\n",
    "\"\"\""
   ]
  },
  {
   "cell_type": "code",
   "execution_count": 8,
   "metadata": {},
   "outputs": [],
   "source": [
    "with open('../data/pmf_rounded_posterior_samples.pickle', 'rb') as f:\n",
    "    rounded_estimate_ratings = pickle.load(f)"
   ]
  },
  {
   "cell_type": "markdown",
   "metadata": {},
   "source": [
    "### Criticism"
   ]
  },
  {
   "cell_type": "markdown",
   "metadata": {},
   "source": [
    "We compare the distribution of estimated ratings using PMF and the distribution of the train and test data. Note that we will conduct POP-PC and PPC at the very end of this section."
   ]
  },
  {
   "cell_type": "markdown",
   "metadata": {},
   "source": [
    "#### Distribution of Estimated Ratings using PMF"
   ]
  },
  {
   "cell_type": "code",
   "execution_count": 9,
   "metadata": {
    "scrolled": false
   },
   "outputs": [
    {
     "data": {
      "image/png": "[encoded data removed]",
      "text/plain": [
       "<Figure size 432x288 with 1 Axes>"
      ]
     },
     "metadata": {
      "needs_background": "light"
     },
     "output_type": "display_data"
    }
   ],
   "source": [
    "util_pmf.plot_rounded_estimates(rounded_estimate_ratings)"
   ]
  },
  {
   "cell_type": "markdown",
   "metadata": {},
   "source": [
    "#### Distribution of Ratings Train Data"
   ]
  },
  {
   "cell_type": "code",
   "execution_count": 10,
   "metadata": {},
   "outputs": [
    {
     "data": {
      "text/plain": [
       "<matplotlib.axes._subplots.AxesSubplot at 0x127880278>"
      ]
     },
     "execution_count": 10,
     "metadata": {},
     "output_type": "execute_result"
    },
    {
     "data": {
      "image/png": "[encoded data removed]",
      "text/plain": [
       "<Figure size 432x288 with 1 Axes>"
      ]
     },
     "metadata": {
      "needs_background": "light"
     },
     "output_type": "display_data"
    }
   ],
   "source": [
    "train_ratings['rating'].value_counts().reindex(\n",
    "    [0.5, 1.0, 1.5, 2.0, 2.5, 3.0, 3.5, 4.0, 4.5, 5.0]).plot(kind='bar')"
   ]
  },
  {
   "cell_type": "markdown",
   "metadata": {},
   "source": [
    "#### Distribution of Ratings Test Data"
   ]
  },
  {
   "cell_type": "code",
   "execution_count": 11,
   "metadata": {},
   "outputs": [
    {
     "data": {
      "text/plain": [
       "<matplotlib.axes._subplots.AxesSubplot at 0x127424a20>"
      ]
     },
     "execution_count": 11,
     "metadata": {},
     "output_type": "execute_result"
    },
    {
     "data": {
      "image/png": "[encoded data removed]",
      "text/plain": [
       "<Figure size 432x288 with 1 Axes>"
      ]
     },
     "metadata": {
      "needs_background": "light"
     },
     "output_type": "display_data"
    }
   ],
   "source": [
    "test_ratings['rating'].value_counts().reindex(\n",
    "    [0.5, 1.0, 1.5, 2.0, 2.5, 3.0, 3.5, 4.0, 4.5, 5.0]).plot(kind='bar')"
   ]
  },
  {
   "cell_type": "markdown",
   "metadata": {},
   "source": [
    "- Compared to the train data, the entire predicted distribution is shifted towards the left side, where the mean of the training data is located. \n",
    "- Compared to the test data, the predictions are strongly underestimating movies with high rated movies.\n",
    "\n",
    "To summarize, the PMF model can be thought to be overfitting by capturing the mean of the train data too strongly, preventing balanced predictions. The MAP objective may be causing these concentrated predictions."
   ]
  },
  {
   "cell_type": "markdown",
   "metadata": {},
   "source": [
    "### Model: Bayesian Probabilistic Matrix Factorization (BPMF)"
   ]
  },
  {
   "cell_type": "markdown",
   "metadata": {},
   "source": [
    "In PMF, each user and movie had the same Normal distribution prior with constant mean and variance. In BMF, a prior distribution is set on the mean and variance of the Normal distributions of each user and each movie. This allows more flexibility in representing the different preferences of users and rating trends of movies using the decomposed matrices, producing more balanced predictions. \n",
    "\n",
    "\\begin{equation}\n",
    "    p(R_{ij} | U_i, V_j, \\mu, \\sigma^2) = N(R_{ij}| U_i, V_j, \\mu, \\sigma^2)\n",
    "\\end{equation}\n",
    "\n",
    "where\n",
    "\\begin{equation}\n",
    "    p(U|\\mu_U, \\sigma_U^2) = \\prod_{i=1}^{N_U}N(U_i|\\mu_U,\\sigma_U^2I) \\\\\n",
    "    p(V|\\mu_V, \\sigma_V^2) = \\prod_{i=1}^{N_V}N(V_i|\\mu_V,\\sigma_V^2I)\n",
    "    \n",
    "\\end{equation}\n",
    "\n",
    "\n",
    "\\begin{equation}\n",
    "    N(U_i|\\mu_U, \\sigma_U) N(V_j|\\mu_V, \\sigma_V)N(\\mu, \\sigma^2|\\phi, \\tau, \\alpha, \\beta)N(\\phi, \\tau)InvGam(\\alpha,\\beta)\n",
    "\\end{equation}\n",
    "\n",
    "where a normal distribution with parameters $\\phi$ and $\\tau$ is the prior for $\\mu$, and an inverse gamma distribution with parameteres $\\alpha$ and $\\beta$ is the prior for $\\sigma^2$. Note that \n",
    "\n",
    "Here, we set $\\phi=0$, $\\tau=1$, $\\alpha=1$, $\\beta=1$."
   ]
  },
  {
   "cell_type": "code",
   "execution_count": 12,
   "metadata": {},
   "outputs": [],
   "source": [
    "def model(data, k=10):\n",
    "    with pyro.plate('users', ratings_df.userId.nunique()):\n",
    "        with pyro.plate('user_k', k):\n",
    "            p_u_mu = pyro.sample('p_u_mu', dist.Normal(0, 1))\n",
    "            p_u_std = pyro.sample('p_u_std', dist.InverseGamma(1, 1))\n",
    "            u = pyro.sample('u', dist.Normal(p_u_mu, p_u_std))\n",
    "    with pyro.plate('movies', ratings_df.movieId.nunique()):\n",
    "        with pyro.plate('movie_k', k):\n",
    "            p_v_mu = pyro.sample('p_v_mu', dist.Normal(0, 1))\n",
    "            p_v_std = pyro.sample('p_v_std', dist.InverseGamma(1, 1))\n",
    "            v = pyro.sample('v', dist.Normal(p_v_mu, p_v_std))\n",
    "    with poutine.mask(mask=torch.tensor(is_observed)):\n",
    "        pyro.sample(\"obs\", dist.Normal(torch.mm(u.T, v), 1), obs=data)"
   ]
  },
  {
   "cell_type": "markdown",
   "metadata": {},
   "source": [
    "### Inference"
   ]
  },
  {
   "cell_type": "code",
   "execution_count": null,
   "metadata": {},
   "outputs": [],
   "source": [
    "pyro.set_rng_seed(2)\n",
    "kernel = NUTS(model, step_size=1e-4)\n",
    "mcmc = MCMC(kernel, num_samples=100, warmup_steps=100)\n",
    "mcmc.run(torch.tensor(zero_imputated_ratings))\n",
    "posterior_samples = mcmc.get_samples()"
   ]
  },
  {
   "cell_type": "code",
   "execution_count": 13,
   "metadata": {},
   "outputs": [
    {
     "data": {
      "text/plain": [
       "\"\\nwith open('../data/bpmf_posterior_samples.pickle', 'wb') as handle:\\n    pickle.dump(posterior_samples, handle, protocol=pickle.HIGHEST_PROTOCOL)\\nrounded_estimate_ratings = util_pmf.calc_average_ratings(\\nposterior_samples['theta_u_k'], posterior_samples['beta_i_k'])\\nwith open('../data/bpmf_rounded_posterior_samples.pickle', 'wb') as handle:\\n    pickle.dump(rounded_estimate_ratings, handle,\\n    protocol=pickle.HIGHEST_PROTOCOL)\\n\""
      ]
     },
     "execution_count": 13,
     "metadata": {},
     "output_type": "execute_result"
    }
   ],
   "source": [
    "# Run this when you do not have 'bpmf_posterior_samples.pickle'\n",
    "\"\"\"\n",
    "with open('../data/bpmf_posterior_samples.pickle', 'wb') as handle:\n",
    "    pickle.dump(posterior_samples, handle, protocol=pickle.HIGHEST_PROTOCOL)\n",
    "rounded_estimate_ratings = util_pmf.calc_average_ratings(\n",
    "posterior_samples['theta_u_k'], posterior_samples['beta_i_k'])\n",
    "with open('../data/bpmf_rounded_posterior_samples.pickle', 'wb') as handle:\n",
    "    pickle.dump(rounded_estimate_ratings, handle,\n",
    "    protocol=pickle.HIGHEST_PROTOCOL)\n",
    "\"\"\""
   ]
  },
  {
   "cell_type": "code",
   "execution_count": 14,
   "metadata": {},
   "outputs": [],
   "source": [
    "with open('../data/bpmf_rounded_posterior_samples.pickle', 'rb') as f:\n",
    "    rounded_estimate_ratings = pickle.load(f)"
   ]
  },
  {
   "cell_type": "markdown",
   "metadata": {},
   "source": [
    "### Criticism"
   ]
  },
  {
   "cell_type": "markdown",
   "metadata": {},
   "source": [
    "We compare the distribution of estimated ratings using BPMF and PMF."
   ]
  },
  {
   "cell_type": "markdown",
   "metadata": {},
   "source": [
    "#### Distribution of Estimated Ratings using BPMF"
   ]
  },
  {
   "cell_type": "code",
   "execution_count": 15,
   "metadata": {},
   "outputs": [
    {
     "data": {
      "image/png": "[encoded data removed]",
      "text/plain": [
       "<Figure size 432x288 with 1 Axes>"
      ]
     },
     "metadata": {
      "needs_background": "light"
     },
     "output_type": "display_data"
    }
   ],
   "source": [
    "util_pmf.plot_rounded_estimates(rounded_estimate_ratings)"
   ]
  },
  {
   "cell_type": "markdown",
   "metadata": {},
   "source": [
    "#### Distribution of Estimated Ratings using PMF"
   ]
  },
  {
   "cell_type": "code",
   "execution_count": 16,
   "metadata": {},
   "outputs": [],
   "source": [
    "with open('../data/pmf_rounded_posterior_samples.pickle', 'rb') as f:\n",
    "    rounded_estimate_ratings = pickle.load(f)"
   ]
  },
  {
   "cell_type": "code",
   "execution_count": 17,
   "metadata": {
    "scrolled": true
   },
   "outputs": [
    {
     "data": {
      "image/png": "[encoded data removed]",
      "text/plain": [
       "<Figure size 432x288 with 1 Axes>"
      ]
     },
     "metadata": {
      "needs_background": "light"
     },
     "output_type": "display_data"
    }
   ],
   "source": [
    "util_pmf.plot_rounded_estimates(rounded_estimate_ratings)"
   ]
  },
  {
   "cell_type": "markdown",
   "metadata": {},
   "source": [
    "- The estimated ratings of BPMF are more spread out, having more weight on high rated movies.\n",
    "\n",
    "Still, BPMF has a difference in the proportion of low and high ratings compared to the train and test data. This may have something to do with the assumed distribution that generates the ratings."
   ]
  },
  {
   "cell_type": "markdown",
   "metadata": {},
   "source": [
    "### Model: Poisson Matrix Factorization (PoiMF)"
   ]
  },
  {
   "cell_type": "markdown",
   "metadata": {},
   "source": [
    "In PoiMF, a Poisson distribution is assumed to generate the ratings in the matrix. PoiMF has almost the same posterior distribution as the BPMF, except that the assumed distributions are Poisson and Gamma, with the hyperparameters corresponding to those distributions.\n",
    "\n",
    "\\begin{equation}\n",
    "    p(R_{ij} | U_i, V_j, \\Theta, \\beta, a, b, c, d) = Poisson(R_{ij}|U_i, V_j, \\Theta, \\beta, a, b, c, d) Gamma(U_i|\\Theta)Gamma(V_j|\\beta)Gamma(\\Theta| a, b)Gamma(\\beta | c, d)\n",
    "\\end{equation}\n",
    "\n",
    "where a Gamma distribution with parameters $a, b$  is the prior for $\\Theta$ and a Gamma distribution with parameters $c, d$ is the prior for $\\beta$. "
   ]
  },
  {
   "cell_type": "code",
   "execution_count": 18,
   "metadata": {},
   "outputs": [],
   "source": [
    "def model(data, k=10):\n",
    "    with pyro.plate('users', ratings_df.userId.nunique()):\n",
    "        e_u = pyro.sample('e_u', dist.Gamma(1, 1))\n",
    "        with pyro.plate('user_k', k):\n",
    "            theta_u_k = pyro.sample('theta_u_k', dist.Gamma(1, e_u))\n",
    "    with pyro.plate('movies', ratings_df.movieId.nunique()):\n",
    "        n_i = pyro.sample('n_i', dist.Gamma(1, 1))\n",
    "        with pyro.plate('movie_k', k):\n",
    "            beta_i_k = pyro.sample('beta_i_k', dist.Gamma(1, n_i))\n",
    "    with poutine.mask(mask=torch.tensor(is_observed)):\n",
    "        pyro.sample(\"obs\", dist.Poisson(torch.mm(\n",
    "            theta_u_k.T, beta_i_k)), obs=data)"
   ]
  },
  {
   "cell_type": "markdown",
   "metadata": {},
   "source": [
    "### Inference"
   ]
  },
  {
   "cell_type": "code",
   "execution_count": null,
   "metadata": {},
   "outputs": [],
   "source": [
    "pyro.set_rng_seed(2)\n",
    "kernel = NUTS(model, step_size=1e-4)\n",
    "mcmc = MCMC(kernel, num_samples=1, warmup_steps=1)\n",
    "mcmc.run(torch.tensor(zero_imputated_ratings))\n",
    "posterior_samples = mcmc.get_samples()"
   ]
  },
  {
   "cell_type": "code",
   "execution_count": null,
   "metadata": {},
   "outputs": [],
   "source": [
    "# Run this when you do not have 'poissonmf_posterior_samples.pickle'\n",
    "\"\"\"\n",
    "#with open('../data/poissonmf_posterior_samples.pickle', 'wb') as handle:\n",
    "    #pickle.dump(posterior_samples, handle, protocol=pickle.HIGHEST_PROTOCOL)\n",
    "#rounded_estimate_ratings = util_pmf.calc_average_ratings(\n",
    "posterior_samples['theta_u_k'], posterior_samples['beta_i_k'])\n",
    "#with open('../data/poissonmf_rounded_posterior_samples.pickle',\n",
    "'wb') as handle:\n",
    "    #pickle.dump(rounded_estimate_ratings, handle,\n",
    "    protocol=pickle.HIGHEST_PROTOCOL)\n",
    "\"\"\""
   ]
  },
  {
   "cell_type": "code",
   "execution_count": 19,
   "metadata": {},
   "outputs": [],
   "source": [
    "with open('../data/poissonmf_rounded_posterior_samples.pickle', 'rb') as f:\n",
    "    rounded_estimate_ratings = pickle.load(f)"
   ]
  },
  {
   "cell_type": "markdown",
   "metadata": {},
   "source": [
    "### Criticism"
   ]
  },
  {
   "cell_type": "markdown",
   "metadata": {},
   "source": [
    "We compare the distribution of estimated ratings using PoiMF, BPMF,and PMF."
   ]
  },
  {
   "cell_type": "markdown",
   "metadata": {},
   "source": [
    "#### Distribution of Estimated Ratings using PoiMF"
   ]
  },
  {
   "cell_type": "code",
   "execution_count": 20,
   "metadata": {},
   "outputs": [
    {
     "data": {
      "image/png": "[encoded data removed]",
      "text/plain": [
       "<Figure size 432x288 with 1 Axes>"
      ]
     },
     "metadata": {
      "needs_background": "light"
     },
     "output_type": "display_data"
    }
   ],
   "source": [
    "util_pmf.plot_rounded_estimates(rounded_estimate_ratings)"
   ]
  },
  {
   "cell_type": "markdown",
   "metadata": {},
   "source": [
    "#### Distribution of Estimated Ratings using BPMF"
   ]
  },
  {
   "cell_type": "code",
   "execution_count": 21,
   "metadata": {},
   "outputs": [],
   "source": [
    "with open('../data/bpmf_rounded_posterior_samples.pickle', 'rb') as f:\n",
    "    rounded_estimate_ratings = pickle.load(f)"
   ]
  },
  {
   "cell_type": "code",
   "execution_count": 22,
   "metadata": {},
   "outputs": [
    {
     "data": {
      "image/png": "[encoded data removed]",
      "text/plain": [
       "<Figure size 432x288 with 1 Axes>"
      ]
     },
     "metadata": {
      "needs_background": "light"
     },
     "output_type": "display_data"
    }
   ],
   "source": [
    "util_pmf.plot_rounded_estimates(rounded_estimate_ratings)"
   ]
  },
  {
   "cell_type": "markdown",
   "metadata": {},
   "source": [
    "#### Distribution of Estimated Ratings using PMF"
   ]
  },
  {
   "cell_type": "code",
   "execution_count": 23,
   "metadata": {},
   "outputs": [],
   "source": [
    "with open('../data/pmf_rounded_posterior_samples.pickle', 'rb') as f:\n",
    "    rounded_estimate_ratings = pickle.load(f)"
   ]
  },
  {
   "cell_type": "code",
   "execution_count": 24,
   "metadata": {
    "scrolled": true
   },
   "outputs": [
    {
     "data": {
      "image/png": "[encoded data removed]",
      "text/plain": [
       "<Figure size 432x288 with 1 Axes>"
      ]
     },
     "metadata": {
      "needs_background": "light"
     },
     "output_type": "display_data"
    }
   ],
   "source": [
    "util_pmf.plot_rounded_estimates(rounded_estimate_ratings)"
   ]
  },
  {
   "cell_type": "markdown",
   "metadata": {},
   "source": [
    "- The PoiMF has more high rating estimates compared to BPMF and PMF (closer to the mode of the ratings of the train data).\n",
    "- PoiMF does not consider the lower ratings as much compared to BPMF and PMF."
   ]
  },
  {
   "cell_type": "markdown",
   "metadata": {},
   "source": [
    "### Criticism using POP-PC and PPC"
   ]
  },
  {
   "cell_type": "markdown",
   "metadata": {},
   "source": [
    "We use the following simple discrepancies for the POP-PC and PPC for MFs.\n",
    "- Mean, Median, First Quantile, and Third Quantile"
   ]
  },
  {
   "cell_type": "code",
   "execution_count": 30,
   "metadata": {},
   "outputs": [],
   "source": [
    "ppc_mean, ppc_median, ppc_first_q, ppc_third_q, \\\n",
    "    poppc_mean, poppc_median, poppc_first_q, poppc_third_q \\\n",
    "    = util_pmf.model_assessment(train_ratings, test_ratings)"
   ]
  },
  {
   "cell_type": "code",
   "execution_count": 31,
   "metadata": {},
   "outputs": [
    {
     "data": {
      "image/png": "[encoded data removed]",
      "text/plain": [
       "<Figure size 432x288 with 4 Axes>"
      ]
     },
     "metadata": {
      "needs_background": "light"
     },
     "output_type": "display_data"
    }
   ],
   "source": [
    "util_pmf.plot_poppc_ppc(ppc_mean, ppc_median,\n",
    "                        ppc_first_q, ppc_third_q,\n",
    "                        poppc_mean, poppc_median,\n",
    "                        poppc_first_q, poppc_third_q)"
   ]
  },
  {
   "cell_type": "markdown",
   "metadata": {},
   "source": [
    "### References"
   ]
  },
  {
   "cell_type": "markdown",
   "metadata": {},
   "source": [
    "- Population Predictive Checks https://arxiv.org/abs/1908.00882\n",
    "- MovieLens Dataset https://www.kaggle.com/rounakbanik/the-movies-dataset\n",
    "- Probabilistic Matrix Factorization https://papers.nips.cc/paper/3208-probabilistic-matrix-factorization.pdf\n",
    "- Bayesian Probabilistic Matrix Factorization using Markov Chain Monte Carlo https://www.cs.toronto.edu/~amnih/papers/bpmf.pdf\n",
    "- Scalable Recommendation with Poisson Factorization https://arxiv.org/pdf/1311.1704.pdf\n",
    "- NUTS http://www.stat.columbia.edu/~gelman/research/published/nuts.pdf"
   ]
  }
 ],
 "metadata": {
  "kernelspec": {
   "display_name": "Python 3",
   "language": "python",
   "name": "python3"
  },
  "language_info": {
   "codemirror_mode": {
    "name": "ipython",
    "version": 3
   },
   "file_extension": ".py",
   "mimetype": "text/x-python",
   "name": "python",
   "nbconvert_exporter": "python",
   "pygments_lexer": "ipython3",
   "version": "3.7.3"
  }
 },
 "nbformat": 4,
 "nbformat_minor": 2
}
