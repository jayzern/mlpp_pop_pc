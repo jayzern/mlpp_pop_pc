{
 "cells": [
  {
   "cell_type": "markdown",
   "metadata": {},
   "source": [
    "Application of Population Predictive Checks to Nonmentioned Bayesian Models "
   ]
  },
  {
   "cell_type": "markdown",
   "metadata": {},
   "source": [
    "## Probabilistic Matrix Factorization using the MovieLens Dataset"
   ]
  },
  {
   "cell_type": "code",
   "execution_count": 7,
   "metadata": {},
   "outputs": [],
   "source": [
    "%matplotlib inline\n",
    "import time\n",
    "\n",
    "import pandas as pd\n",
    "import numpy as np\n",
    "import torch\n",
    "import pyro\n",
    "import pyro.distributions as dist\n",
    "import matplotlib.pyplot as plt\n",
    "import pickle \n",
    "\n",
    "from numpy.linalg import inv\n",
    "from pyro.infer.mcmc.api import MCMC\n",
    "from pyro.infer.mcmc import NUTS"
   ]
  },
  {
   "cell_type": "code",
   "execution_count": 8,
   "metadata": {},
   "outputs": [
    {
     "name": "stdout",
     "output_type": "stream",
     "text": [
      "Minimum number of ratings for each user is 20\n",
      "Minimum number of ratings for each movie is 1\n"
     ]
    }
   ],
   "source": [
    "# Run this when you haven't created a indexed_ratings.csv yet\n",
    "# Data: https://www.kaggle.com/rounakbanik/the-movies-dataset/download\n",
    "ratings_df = pd.read_csv('../data/the-movies-dataset/ratings_small.csv')\n",
    "\n",
    "# Check the minimum number of ratings a user has posted\n",
    "print('Minimum number of ratings for each user is ' + str(ratings_df.groupby('userId').size().min()))\n",
    "print('Minimum number of ratings for each movie is ' + str(ratings_df.groupby('movieId').size().min()))"
   ]
  },
  {
   "cell_type": "markdown",
   "metadata": {},
   "source": [
    "We will only use movies that have more than 4 ratings, to have more training data available per movie."
   ]
  },
  {
   "cell_type": "code",
   "execution_count": 9,
   "metadata": {},
   "outputs": [
    {
     "name": "stdout",
     "output_type": "stream",
     "text": [
      "Minimum number of ratings for each movie is 5\n"
     ]
    }
   ],
   "source": [
    "# We will only use part of the data that has more than 4 reviews per movie\n",
    "moviecounts = ratings_df.movieId.value_counts()\n",
    "ratings_df = ratings_df[ratings_df.movieId.isin(moviecounts.index[moviecounts.gt(4)])].reset_index(drop=True)\n",
    "print('Minimum number of ratings for each movie is ' + str(ratings_df.groupby('movieId').size().min()))"
   ]
  },
  {
   "cell_type": "code",
   "execution_count": null,
   "metadata": {
    "scrolled": true
   },
   "outputs": [],
   "source": [
    "# Run this when you DON'T have a train_ratings.csv \n",
    "# Randomly split the data into train and test\n",
    "# Specifically, take 5 random ratings out of each user's rating list (therefore, there will be 5 times # of user ratings in the test set)\n",
    "# For each user id, take out 5 ratings oaut of the dataframe then append them into a new dataframe.\n",
    "# Then take the difference of the two data frames and the difference will be the train data\n",
    "\n",
    "def train_test_split_mf(ratings_df):\n",
    "    for userid in ratings_df.userId.unique() :\n",
    "        if userid == 1:\n",
    "            test_ratings = ratings_df[ratings_df['userId']==userid].sample(5, random_state=0)\n",
    "        else:\n",
    "            test_ratings = test_ratings.append(ratings_df[ratings_df['userId']==userid].sample(5, random_state=0))\n",
    "    train_ratings = pd.concat([ratings_df, test_ratings]).drop_duplicates(keep=False).reset_index(drop=True)\n",
    "    test_ratings = test_ratings.reset_index(drop=True)\n",
    "    print(\"Number of ratings in entire dataset is \"+ str(len(ratings_df)))\n",
    "    print(\"Number of ratings in train dataset is \"+  str(len(train_ratings)))\n",
    "    print(\"Number of ratings in test dataset is \"+ str(len(test_ratings)))\n",
    "    return train_ratings, test_ratings"
   ]
  },
  {
   "cell_type": "code",
   "execution_count": null,
   "metadata": {},
   "outputs": [],
   "source": [
    "train_ratings, test_ratings = train_test_split_mf(ratings_df)"
   ]
  },
  {
   "cell_type": "code",
   "execution_count": null,
   "metadata": {},
   "outputs": [],
   "source": [
    "train_ratings.to_csv('../data/train_ratings.csv')\n",
    "test_ratings.to_csv('../data/test_ratings.csv')"
   ]
  },
  {
   "cell_type": "markdown",
   "metadata": {},
   "source": [
    "We split randomly the data into train and test data. Specifically, we take 5 random ratings out of each user's rating list, creating 5 x (num of users) ratings in the test set. The remaining data becomes the training set."
   ]
  },
  {
   "cell_type": "code",
   "execution_count": 10,
   "metadata": {},
   "outputs": [],
   "source": [
    "# Run this when you have a train_ratings.csv \n",
    "train_ratings = pd.read_csv('../data/train_ratings.csv', index_col=0)"
   ]
  },
  {
   "cell_type": "markdown",
   "metadata": {},
   "source": [
    "Since the IDs of the users and movies have gaps in between, we reindex the IDs so that it will be easier to manipulate the user x movie ratings matrix."
   ]
  },
  {
   "cell_type": "code",
   "execution_count": null,
   "metadata": {},
   "outputs": [],
   "source": [
    "# Run this when you DON'T have a indexed_train_ratings.csv \n",
    "# Reindexing of userId and movieId\n",
    "unique_userId = train_ratings.userId.unique()\n",
    "unique_movieId = train_ratings.movieId.unique()\n",
    "\n",
    "train_ratings['new_user_index'], train_ratings['new_movie_index'] = 0, 0\n",
    "\n",
    "for old_id, new_id in zip(unique_userId, range(len(unique_userId))):\n",
    "    train_ratings['new_user_index'].iloc[train_ratings[train_ratings['userId']==old_id].index.tolist()] = new_id\n",
    "\n",
    "for old_id, new_id in zip(unique_movieId, range(len(unique_movieId))):\n",
    "    train_ratings['new_movie_index'].iloc[train_ratings[train_ratings['movieId']==old_id].index.tolist()] = new_id\n",
    "\n",
    "train_ratings.to_csv('../data/indexed_train_ratings.csv')"
   ]
  },
  {
   "cell_type": "code",
   "execution_count": 11,
   "metadata": {},
   "outputs": [],
   "source": [
    "# Run this when you have a indexed_train_ratings.csv \n",
    "train_ratings = pd.read_csv('../data/indexed_train_ratings.csv', index_col=0)"
   ]
  },
  {
   "cell_type": "markdown",
   "metadata": {},
   "source": [
    "Distribution of All Ratings (with more than 4 reviews)"
   ]
  },
  {
   "cell_type": "code",
   "execution_count": null,
   "metadata": {
    "scrolled": true
   },
   "outputs": [],
   "source": [
    "# Distribution of All Ratings (with more than 4 reviews)\n",
    "ratings_df['rating'].value_counts().reindex([0.5,1.0,1.5,2.0,2.5,3.0,3.5,4.0,4.5,5.0]).plot(kind='bar')"
   ]
  },
  {
   "cell_type": "markdown",
   "metadata": {},
   "source": [
    "Distribution of Train Data Ratings"
   ]
  },
  {
   "cell_type": "code",
   "execution_count": null,
   "metadata": {},
   "outputs": [],
   "source": [
    "# Distribution of Train Data Ratings\n",
    "train_ratings['rating'].value_counts().reindex([0.5,1.0,1.5,2.0,2.5,3.0,3.5,4.0,4.5,5.0]).plot(kind='bar')"
   ]
  },
  {
   "cell_type": "markdown",
   "metadata": {},
   "source": [
    "Distribution of Train Data Ratings"
   ]
  },
  {
   "cell_type": "code",
   "execution_count": null,
   "metadata": {},
   "outputs": [],
   "source": [
    "# Distribution of Test Data Ratings\n",
    "test_ratings['rating'].value_counts().reindex([0.5,1.0,1.5,2.0,2.5,3.0,3.5,4.0,4.5,5.0]).plot(kind='bar')"
   ]
  },
  {
   "cell_type": "markdown",
   "metadata": {},
   "source": [
    "Now we implement the Probabilistic Matrix Factorization (PMF) model, and train the model using the train dataset. In our case, PMF 's objective is to fill in the missing values of the movie matrix $M$, by maximizing the following MAP objective function.\n",
    "\n",
    "$L = - \\Sigma_{(i,j)\\in \\Omega}\\frac{1}{2\\sigma^2}(M_{ij}-u_i^Tv_j)^2-\\Sigma_{i=1}^{N_u}\\frac{\\lambda}{2}||u_i||^2-\\Sigma_{j=1}^{N_v}\\frac{\\lambda}{2}||v_j||^2$,\n",
    "\n",
    "where $u_i$ is the $i$th user vector, $v_j$ the $j$th movie vector, $N_u$ the number of users, $N_v$ the number of movies, $\\Omega$ the set of $(i,j)$s that have a rating in the matrix $M$, $\\sigma^2$ the variance of $M_{ij} \\sim N(u_i^Tv_j, \\sigma^2)$. Therefore, each rating in $M$ are assumed to be normally distributed. Also, note that the each user vector $u_i$ and movie vector $v_j$ are initialized from the distribution $N(0, \\lambda^{-1}I)$, where $u$ is a $i \\times k$ matrix and $v$ is a $j \\times k$ matrix.\n",
    "\n",
    "We have implemented the model below."
   ]
  },
  {
   "cell_type": "markdown",
   "metadata": {},
   "source": [
    "#### Imputation of train data using the mean ratings of each user"
   ]
  },
  {
   "cell_type": "code",
   "execution_count": null,
   "metadata": {},
   "outputs": [],
   "source": [
    "# Run this when you DON'T have a mean_imputated_ratings.npy\n",
    "\n",
    "imputated_ratings = np.empty((ratings_df.userId.nunique(),ratings_df.movieId.nunique()))\n",
    "\n",
    "for user in range(ratings_df.userId.nunique()):\n",
    "    imputated_ratings[user] = train_ratings[train_ratings.new_user_index == user]['rating'].mean()\n",
    "    for column in train_ratings[train_ratings.new_user_index == user]['new_movie_index']:\n",
    "        imputated_ratings[user, column] = train_ratings[(train_ratings.new_user_index == user)&(train_ratings.new_movie_index == column)]['rating']   \n",
    "\n",
    "np.save('../data/mean_imputated_ratings.npy', imputated_ratings)"
   ]
  },
  {
   "cell_type": "code",
   "execution_count": 6,
   "metadata": {},
   "outputs": [],
   "source": [
    "# Run this when you have a imputated_ratings.npy\n",
    "imputated_ratings = np.load('../data/mean_imputated_ratings.npy')"
   ]
  },
  {
   "cell_type": "markdown",
   "metadata": {},
   "source": [
    "#### Imputation of train data using zeros"
   ]
  },
  {
   "cell_type": "code",
   "execution_count": null,
   "metadata": {},
   "outputs": [],
   "source": [
    "# Run this when you DON'T have a zero_imputated_ratings.npy\n",
    "\n",
    "imputated_ratings = np.empty((ratings_df.userId.nunique(),ratings_df.movieId.nunique()))\n",
    "\n",
    "for user in range(ratings_df.userId.nunique()):\n",
    "    imputated_ratings[user] = 0\n",
    "    for column in train_ratings[train_ratings.new_user_index == user]['new_movie_index']:\n",
    "        imputated_ratings[user, column] = train_ratings[(train_ratings.new_user_index == user)&(train_ratings.new_movie_index == column)]['rating']  \n",
    "\n",
    "np.save('../data/zero_imputated_ratings.npy', imputated_ratings)"
   ]
  },
  {
   "cell_type": "code",
   "execution_count": 12,
   "metadata": {},
   "outputs": [],
   "source": [
    "# Run this when you have a zero_imputated_ratings.npy\n",
    "imputated_ratings = np.load('../data/zero_imputated_ratings.npy')"
   ]
  },
  {
   "cell_type": "code",
   "execution_count": 23,
   "metadata": {},
   "outputs": [],
   "source": [
    "# Implementation of Poisson Matrix Factorization using Pyro\n",
    "# (To use Pyro, need data that has missing values imputated with the mean rating of each user)\n",
    "def model(data, k=10):\n",
    "    with pyro.plate('users', ratings_df.userId.nunique()):\n",
    "        e_u = pyro.sample('e_u', dist.Gamma(1, 1))\n",
    "        with pyro.plate('user_k', k):\n",
    "            theta_u_k = pyro.sample('theta_u_k', dist.Gamma(1,e_u))\n",
    "    with pyro.plate('movies', ratings_df.movieId.nunique()):\n",
    "        n_i = pyro.sample('n_i', dist.Gamma(1, 1))\n",
    "        with pyro.plate('movie_k', k):\n",
    "            beta_i_k = pyro.sample('beta_i_k', dist.Gamma(1,n_i))\n",
    "    pyro.sample(\"obs\", dist.Poisson(torch.mm(theta_u_k.T,beta_i_k)), obs=data)"
   ]
  },
  {
   "cell_type": "code",
   "execution_count": null,
   "metadata": {},
   "outputs": [
    {
     "name": "stderr",
     "output_type": "stream",
     "text": [
      "warmup:  10%|▉         | 19/200 [04:21, 22.82s/it, step size=7.72e-03, acc. prob=0.739]"
     ]
    }
   ],
   "source": [
    "pyro.set_rng_seed(2)\n",
    "kernel = NUTS(model, step_size=1e-4) \n",
    "mcmc = MCMC(kernel, num_samples=100, warmup_steps=100)\n",
    "mcmc.run(torch.tensor(imputated_ratings))\n",
    "posterior_samples = mcmc.get_samples()"
   ]
  },
  {
   "cell_type": "code",
   "execution_count": null,
   "metadata": {},
   "outputs": [],
   "source": [
    "type(posterior_samples)"
   ]
  }
 ],
 "metadata": {
  "kernelspec": {
   "display_name": "Python 3",
   "language": "python",
   "name": "python3"
  },
  "language_info": {
   "codemirror_mode": {
    "name": "ipython",
    "version": 3
   },
   "file_extension": ".py",
   "mimetype": "text/x-python",
   "name": "python",
   "nbconvert_exporter": "python",
   "pygments_lexer": "ipython3",
   "version": "3.7.3"
  }
 },
 "nbformat": 4,
 "nbformat_minor": 2
}
